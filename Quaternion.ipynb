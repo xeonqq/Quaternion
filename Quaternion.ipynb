{
 "cells": [
  {
   "cell_type": "code",
   "execution_count": null,
   "metadata": {
    "collapsed": true
   },
   "outputs": [],
   "source": [
    "# sympy implementation of Sebastian O.H. Madgwick's AHRS algorithm\n",
    "# http://x-io.co.uk/res/doc/madgwick_internal_report.pdf"
   ]
  },
  {
   "cell_type": "code",
   "execution_count": 30,
   "metadata": {
    "collapsed": true
   },
   "outputs": [],
   "source": [
    "from sympy import *\n"
   ]
  },
  {
   "cell_type": "code",
   "execution_count": 31,
   "metadata": {
    "collapsed": true
   },
   "outputs": [],
   "source": [
    "q0, q1, q2, q3 = symbols('q0 q1 q2 q3')\n",
    "ax,ay,az = symbols('ax,ay,az')"
   ]
  },
  {
   "cell_type": "code",
   "execution_count": 40,
   "metadata": {
    "collapsed": false
   },
   "outputs": [],
   "source": [
    "class Quaternion():\n",
    "    def __init__(self, a,b,c,d):\n",
    "        self.a = a\n",
    "        self.b = b\n",
    "        self.c = c\n",
    "        self.d = d\n",
    "    \n",
    "    def __mul__(self, other):\n",
    "        a_ = self.a * other.a - self.b * other.b - self.c * other.c - self.d * other.d\n",
    "        b_ = self.a * other.b + self.b * other.a + self.c * other.d - self.d * other.c\n",
    "        c_ = self.a * other.c - self.b * other.d + self.c * other.a + self.d * other.b\n",
    "        d_ = self.a * other.d + self.b * other.c - self.c * other.b + self.d * other.a\n",
    "        return Quaternion(a_, b_, c_, d_)\n",
    "    \n",
    "    def __sub__(self, other):\n",
    "        return Quaternion(self.a - other.a, self.b - other.b, self.c - other.c, self.d - other.d)\n",
    "    \n",
    "    def conj(self):\n",
    "        return Quaternion(self.a, -self.b, -self.c, -self.d)\n",
    "    \n",
    "    def __str__(self):\n",
    "        return str(self.a) + \", \\n\" +  str(self.b) + \", \\n\" + str(self.c) + \", \\n\" + str(self.d) +  \"\\n\""
   ]
  },
  {
   "cell_type": "code",
   "execution_count": 46,
   "metadata": {
    "collapsed": false
   },
   "outputs": [],
   "source": [
    "q = Quaternion(q0, q1, q2, q3)\n",
    "\n",
    "# The g value here is assuming imu measured acceleration is only gravity, which is a wrong assumption.\n",
    "# This can be corrected if you have external measurement.\n",
    "# For example, if you have gps input, then this can become g(0,gps_ax,gps_ay,gps_az+1)\n",
    "g = Quaternion(0,0,0,1) \n",
    "a = Quaternion(0,ax,ay,az)\n",
    "\n",
    "# physical meaning is error between 'gravity g in body frame' and 'measured acceleration (body frame)'\n",
    "err = q.conj() * g * q - a  "
   ]
  },
  {
   "cell_type": "code",
   "execution_count": 47,
   "metadata": {
    "collapsed": false
   },
   "outputs": [
    {
     "data": {
      "text/plain": [
       "Matrix([\n",
       "[            -ax - 2*q0*q2 + 2*q1*q3],\n",
       "[            -ay + 2*q0*q1 + 2*q2*q3],\n",
       "[-az + q0**2 - q1**2 - q2**2 + q3**2]])"
      ]
     },
     "execution_count": 47,
     "metadata": {},
     "output_type": "execute_result"
    }
   ],
   "source": [
    "F = Matrix(3,1, [err.b, err.c,err.d])\n",
    "F"
   ]
  },
  {
   "cell_type": "code",
   "execution_count": 48,
   "metadata": {
    "collapsed": false
   },
   "outputs": [
    {
     "data": {
      "text/plain": [
       "Matrix([\n",
       "[-2*q2,  2*q3, -2*q0, 2*q1],\n",
       "[ 2*q1,  2*q0,  2*q3, 2*q2],\n",
       "[ 2*q0, -2*q1, -2*q2, 2*q3]])"
      ]
     },
     "execution_count": 48,
     "metadata": {},
     "output_type": "execute_result"
    }
   ],
   "source": [
    "J = F.jacobian(Matrix([q0, q1, q2, q3]))\n",
    "J"
   ]
  },
  {
   "cell_type": "code",
   "execution_count": 62,
   "metadata": {
    "collapsed": false
   },
   "outputs": [
    {
     "data": {
      "text/plain": [
       "Matrix([\n",
       "[ 2*ax*q2 - 2*ay*q1 - 2*az*q0 + 2*q0**3 + 2*q0*q1**2 + 2*q0*q2**2 + 2*q0*q3**2],\n",
       "[-2*ax*q3 - 2*ay*q0 + 2*az*q1 + 2*q0**2*q1 + 2*q1**3 + 2*q1*q2**2 + 2*q1*q3**2],\n",
       "[ 2*ax*q0 - 2*ay*q3 + 2*az*q2 + 2*q0**2*q2 + 2*q1**2*q2 + 2*q2**3 + 2*q2*q3**2],\n",
       "[-2*ax*q1 - 2*ay*q2 - 2*az*q3 + 2*q0**2*q3 + 2*q1**2*q3 + 2*q2**2*q3 + 2*q3**3]])"
      ]
     },
     "execution_count": 62,
     "metadata": {},
     "output_type": "execute_result"
    }
   ],
   "source": [
    "deltaF = J.T * F\n",
    "deltaF.simplify()\n",
    "deltaF"
   ]
  },
  {
   "cell_type": "code",
   "execution_count": 63,
   "metadata": {
    "collapsed": false
   },
   "outputs": [
    {
     "data": {
      "text/plain": [
       "1/sqrt((2*ax*q0 - 2*ay*q3 + 2*az*q2 + 2*q0**2*q2 + 2*q1**2*q2 + 2*q2**3 + 2*q2*q3**2)**2 + (-2*ax*q1 - 2*ay*q2 - 2*az*q3 + 2*q0**2*q3 + 2*q1**2*q3 + 2*q2**2*q3 + 2*q3**3)**2 + (2*ax*q2 - 2*ay*q1 - 2*az*q0 + 2*q0**3 + 2*q0*q1**2 + 2*q0*q2**2 + 2*q0*q3**2)**2 + (-2*ax*q3 - 2*ay*q0 + 2*az*q1 + 2*q0**2*q1 + 2*q1**3 + 2*q1*q2**2 + 2*q1*q3**2)**2)"
      ]
     },
     "execution_count": 63,
     "metadata": {},
     "output_type": "execute_result"
    }
   ],
   "source": [
    "recipnorm = 1/ sqrt(deltaF[0]**2 + deltaF[1]**2 + deltaF[2]**2 + deltaF[3]**2)\n",
    "recipnorm"
   ]
  },
  {
   "cell_type": "code",
   "execution_count": 65,
   "metadata": {
    "collapsed": false
   },
   "outputs": [],
   "source": [
    "s=deltaF  * recipnorm\n"
   ]
  },
  {
   "cell_type": "code",
   "execution_count": null,
   "metadata": {
    "collapsed": true
   },
   "outputs": [],
   "source": []
  },
  {
   "cell_type": "code",
   "execution_count": null,
   "metadata": {
    "collapsed": true
   },
   "outputs": [],
   "source": []
  }
 ],
 "metadata": {
  "kernelspec": {
   "display_name": "Python 2",
   "language": "python",
   "name": "python2"
  },
  "language_info": {
   "codemirror_mode": {
    "name": "ipython",
    "version": 2
   },
   "file_extension": ".py",
   "mimetype": "text/x-python",
   "name": "python",
   "nbconvert_exporter": "python",
   "pygments_lexer": "ipython2",
   "version": "2.7.6"
  }
 },
 "nbformat": 4,
 "nbformat_minor": 0
}
