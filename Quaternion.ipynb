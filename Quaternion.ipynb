{
 "cells": [
  {
   "cell_type": "code",
   "execution_count": 72,
   "metadata": {
    "collapsed": true
   },
   "outputs": [],
   "source": [
    "# sympy implementation of Sebastian O.H. Madgwick's AHRS algorithm\n",
    "# http://x-io.co.uk/res/doc/madgwick_internal_report.pdf"
   ]
  },
  {
   "cell_type": "code",
   "execution_count": 98,
   "metadata": {
    "collapsed": true
   },
   "outputs": [],
   "source": [
    "from sympy import *"
   ]
  },
  {
   "cell_type": "code",
   "execution_count": 99,
   "metadata": {
    "collapsed": true
   },
   "outputs": [],
   "source": [
    "q0, q1, q2, q3 = symbols('q0 q1 q2 q3') # quaternion for body frame relative to earth frame\n",
    "ax,ay,az = symbols('ax,ay,az') # acceleration measured in body frame\n",
    "wx,wy,wz = symbols('wx,wy,wz') # angular velocity measured in body frame"
   ]
  },
  {
   "cell_type": "code",
   "execution_count": 133,
   "metadata": {
    "collapsed": false
   },
   "outputs": [],
   "source": [
    "class Quaternion():\n",
    "    def __init__(self, a,b,c,d):\n",
    "        self.a = a\n",
    "        self.b = b\n",
    "        self.c = c\n",
    "        self.d = d\n",
    "    \n",
    "    def __mul__(self, other):\n",
    "        if isinstance(other, self.__class__):\n",
    "            a_ = self.a * other.a - self.b * other.b - self.c * other.c - self.d * other.d\n",
    "            b_ = self.a * other.b + self.b * other.a + self.c * other.d - self.d * other.c\n",
    "            c_ = self.a * other.c - self.b * other.d + self.c * other.a + self.d * other.b\n",
    "            d_ = self.a * other.d + self.b * other.c - self.c * other.b + self.d * other.a\n",
    "            return Quaternion(a_, b_, c_, d_)\n",
    "        elif isinstance(other, (float, long, int)):\n",
    "            return Quaternion(self.a * other, self.b * other, self.c * other, self.d * other)\n",
    "        else:\n",
    "            raise TypeError(\"unsupported operand type\")\n",
    "    \n",
    "    def __rmul__(self,other):\n",
    "        return self.__mul__(other)\n",
    "    \n",
    "    def __sub__(self, other):\n",
    "        return Quaternion(self.a - other.a, self.b - other.b, self.c - other.c, self.d - other.d)\n",
    "    \n",
    "    def conj(self):\n",
    "        return Quaternion(self.a, -self.b, -self.c, -self.d)\n",
    "    \n",
    "    def __str__(self):\n",
    "        return str(self.a) + \", \\n\" +  str(self.b) + \", \\n\" + str(self.c) + \", \\n\" + str(self.d) +  \"\\n\"\n",
    "    \n",
    "    def tolist(self):\n",
    "        return [self.a, self.b, self.c, self.d]"
   ]
  },
  {
   "cell_type": "code",
   "execution_count": 134,
   "metadata": {
    "collapsed": false
   },
   "outputs": [
    {
     "name": "stdout",
     "output_type": "stream",
     "text": [
      "-0.5*q1*wx - 0.5*q2*wy - 0.5*q3*wz, \n",
      "0.5*q0*wx + 0.5*q2*wz - 0.5*q3*wy, \n",
      "0.5*q0*wy - 0.5*q1*wz + 0.5*q3*wx, \n",
      "0.5*q0*wz + 0.5*q1*wy - 0.5*q2*wx\n",
      "\n"
     ]
    }
   ],
   "source": [
    "q = Quaternion(q0, q1, q2, q3)\n",
    "\n",
    "# The g value here is assuming imu measured acceleration is only gravity, which is a wrong assumption.\n",
    "# This can be corrected if you have external measurement.\n",
    "# For example, if you have gps input, then this can become g(0,gps_ax,gps_ay,gps_az+1)\n",
    "g = Quaternion(0,0,0,1) \n",
    "a = Quaternion(0,ax,ay,az)\n",
    "\n",
    "\n",
    "# quaternion rate calculated from gyro rate\n",
    "q_dot = 0.5 * q * Quaternion(0, wx,wy,wz) \n",
    "\n",
    "print q_dot"
   ]
  },
  {
   "cell_type": "code",
   "execution_count": 118,
   "metadata": {
    "collapsed": false
   },
   "outputs": [],
   "source": [
    "# Due to drift and noise in gyro input, the angular veolcity estimated quaternion will not be correct in the long run\n",
    "# However we can trust accelerometer in the long run, we use accelerometer measured g to correct the quaternion\n",
    "# physical meaning is error between 'gravity g in body frame' and 'measured acceleration (body frame)'\n",
    "err = q.conj() * g * q - a  "
   ]
  },
  {
   "cell_type": "code",
   "execution_count": 119,
   "metadata": {
    "collapsed": false
   },
   "outputs": [
    {
     "data": {
      "text/plain": [
       "Matrix([\n",
       "[            -ax - 2*q0*q2 + 2*q1*q3],\n",
       "[            -ay + 2*q0*q1 + 2*q2*q3],\n",
       "[-az + q0**2 - q1**2 - q2**2 + q3**2]])"
      ]
     },
     "execution_count": 119,
     "metadata": {},
     "output_type": "execute_result"
    }
   ],
   "source": [
    "F = Matrix(3,1, [err.b, err.c,err.d])\n",
    "F"
   ]
  },
  {
   "cell_type": "code",
   "execution_count": 120,
   "metadata": {
    "collapsed": false
   },
   "outputs": [
    {
     "data": {
      "text/plain": [
       "Matrix([\n",
       "[-2*q2,  2*q3, -2*q0, 2*q1],\n",
       "[ 2*q1,  2*q0,  2*q3, 2*q2],\n",
       "[ 2*q0, -2*q1, -2*q2, 2*q3]])"
      ]
     },
     "execution_count": 120,
     "metadata": {},
     "output_type": "execute_result"
    }
   ],
   "source": [
    "J = F.jacobian(Matrix(q.tolist()))\n",
    "J"
   ]
  },
  {
   "cell_type": "code",
   "execution_count": 121,
   "metadata": {
    "collapsed": false
   },
   "outputs": [
    {
     "data": {
      "text/plain": [
       "Matrix([\n",
       "[ 2*ax*q2 - 2*ay*q1 - 2*az*q0 + 2*q0**3 + 2*q0*q1**2 + 2*q0*q2**2 + 2*q0*q3**2],\n",
       "[-2*ax*q3 - 2*ay*q0 + 2*az*q1 + 2*q0**2*q1 + 2*q1**3 + 2*q1*q2**2 + 2*q1*q3**2],\n",
       "[ 2*ax*q0 - 2*ay*q3 + 2*az*q2 + 2*q0**2*q2 + 2*q1**2*q2 + 2*q2**3 + 2*q2*q3**2],\n",
       "[-2*ax*q1 - 2*ay*q2 - 2*az*q3 + 2*q0**2*q3 + 2*q1**2*q3 + 2*q2**2*q3 + 2*q3**3]])"
      ]
     },
     "execution_count": 121,
     "metadata": {},
     "output_type": "execute_result"
    }
   ],
   "source": [
    "deltaF = J.T * F\n",
    "deltaF.simplify()\n",
    "deltaF"
   ]
  },
  {
   "cell_type": "code",
   "execution_count": 122,
   "metadata": {
    "collapsed": false
   },
   "outputs": [
    {
     "data": {
      "text/plain": [
       "1/sqrt((2*ax*q0 - 2*ay*q3 + 2*az*q2 + 2*q0**2*q2 + 2*q1**2*q2 + 2*q2**3 + 2*q2*q3**2)**2 + (-2*ax*q1 - 2*ay*q2 - 2*az*q3 + 2*q0**2*q3 + 2*q1**2*q3 + 2*q2**2*q3 + 2*q3**3)**2 + (2*ax*q2 - 2*ay*q1 - 2*az*q0 + 2*q0**3 + 2*q0*q1**2 + 2*q0*q2**2 + 2*q0*q3**2)**2 + (-2*ax*q3 - 2*ay*q0 + 2*az*q1 + 2*q0**2*q1 + 2*q1**3 + 2*q1*q2**2 + 2*q1*q3**2)**2)"
      ]
     },
     "execution_count": 122,
     "metadata": {},
     "output_type": "execute_result"
    }
   ],
   "source": [
    "recipnorm = 1/ sqrt(deltaF[0]**2 + deltaF[1]**2 + deltaF[2]**2 + deltaF[3]**2)\n",
    "recipnorm"
   ]
  },
  {
   "cell_type": "code",
   "execution_count": 123,
   "metadata": {
    "collapsed": false
   },
   "outputs": [],
   "source": [
    "s=deltaF  * recipnorm\n"
   ]
  },
  {
   "cell_type": "code",
   "execution_count": 124,
   "metadata": {
    "collapsed": true
   },
   "outputs": [],
   "source": [
    "step = 0.1\n",
    "dt = 1/200.0"
   ]
  },
  {
   "cell_type": "code",
   "execution_count": 136,
   "metadata": {
    "collapsed": false
   },
   "outputs": [],
   "source": [
    "q_dot = Matrix(q_dot.tolist())\n",
    "q_dot -= step * s  # Apply feedback step"
   ]
  },
  {
   "cell_type": "code",
   "execution_count": null,
   "metadata": {
    "collapsed": false
   },
   "outputs": [],
   "source": [
    "q = Matrix(q.tolist())\n",
    "q += q_dot * dt\n",
    "q = q/sqrt(sum([q[0]**2,q[1]**2,q[2]**2, q[3]**2])) #normalization of the quaternion"
   ]
  },
  {
   "cell_type": "code",
   "execution_count": null,
   "metadata": {
    "collapsed": true
   },
   "outputs": [],
   "source": []
  },
  {
   "cell_type": "code",
   "execution_count": null,
   "metadata": {
    "collapsed": true
   },
   "outputs": [],
   "source": []
  }
 ],
 "metadata": {
  "kernelspec": {
   "display_name": "Python 2",
   "language": "python",
   "name": "python2"
  },
  "language_info": {
   "codemirror_mode": {
    "name": "ipython",
    "version": 2
   },
   "file_extension": ".py",
   "mimetype": "text/x-python",
   "name": "python",
   "nbconvert_exporter": "python",
   "pygments_lexer": "ipython2",
   "version": "2.7.6"
  }
 },
 "nbformat": 4,
 "nbformat_minor": 0
}
